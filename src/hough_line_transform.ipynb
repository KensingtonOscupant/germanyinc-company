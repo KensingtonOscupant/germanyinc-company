{
 "cells": [
  {
   "cell_type": "code",
   "execution_count": 1,
   "metadata": {},
   "outputs": [],
   "source": [
    "# import cv2\n",
    "# import numpy as np\n",
    "\n",
    "# # Load the image in color\n",
    "# image = cv2.imread('../data/input/snippets/snippet_0.jpg')\n",
    "\n",
    "# # Convert the image to grayscale for processing\n",
    "# gray = cv2.cvtColor(image, cv2.COLOR_BGR2GRAY)\n",
    "\n",
    "# # Apply Gaussian blur to reduce noise and improve line detection\n",
    "# blurred = cv2.GaussianBlur(gray, (5, 5), 0)\n",
    "\n",
    "# # Use Canny edge detector to detect edges in the image\n",
    "# edges = cv2.Canny(blurred, 50, 150)\n",
    "\n",
    "# # Apply Hough Line Transform\n",
    "# lines = cv2.HoughLines(edges, 1, np.pi/180, 350)  # Adjust the last parameter for better results\n",
    "\n",
    "# if lines is not None:\n",
    "#     for rho, theta in lines[:,0]:\n",
    "#         a = np.cos(theta)\n",
    "#         b = np.sin(theta)\n",
    "#         x0 = a * rho\n",
    "#         y0 = b * rho\n",
    "#         x1 = int(x0 + 1000*(-b))\n",
    "#         y1 = int(y0 + 1000*(a))\n",
    "#         x2 = int(x0 - 1000*(-b))\n",
    "#         y2 = int(y0 - 1000*(a))\n",
    "#         cv2.line(image, (x1, y1), (x2, y2), (0, 0, 255), 2)  # Red color in BGR\n",
    "\n",
    "\n",
    "# # Display the image with the detected lines\n",
    "# cv2.imshow('Detected Lines', image)\n",
    "# cv2.waitKey(0)\n",
    "# cv2.destroyAllWindows()\n"
   ]
  },
  {
   "cell_type": "code",
   "execution_count": 1,
   "metadata": {},
   "outputs": [
    {
     "name": "stdout",
     "output_type": "stream",
     "text": [
      "Slope: -0.0005002501250625312, Start Point: (-1000, 15), End Point: (999, 16)\n",
      "Slope: -0.0005002501250625312, Start Point: (-1000, 18), End Point: (999, 19)\n",
      "Slope: -0.0005002501250625312, Start Point: (-1000, 12), End Point: (999, 13)\n",
      "Slope: -0.0005002501250625312, Start Point: (-1000, 9), End Point: (999, 10)\n",
      "Slope: -0.0005002501250625312, Start Point: (-1000, 23), End Point: (999, 24)\n",
      "(61, 4665, 3)\n"
     ]
    }
   ],
   "source": [
    "import cv2\n",
    "import numpy as np\n",
    "\n",
    "def calculate_slope_and_endpoints(x1, y1, x2, y2, theta):\n",
    "    # Calculate slope\n",
    "    if x2 - x1 != 0:\n",
    "        m = (y2 - y1) / (x2 - x1)\n",
    "    else:\n",
    "        m = float('inf')  # Use infinity to represent vertical lines\n",
    "\n",
    "    # Adjust for the theta value\n",
    "    if np.pi/4 <= theta <= 3*np.pi/4:\n",
    "        m = -m\n",
    "\n",
    "    return m, ((x1, y1), (x2, y2))\n",
    "\n",
    "# Load the image in color\n",
    "image = cv2.imread('../data/input/snippets/allweiler_1_page.png')\n",
    "\n",
    "# Convert the image to grayscale for processing\n",
    "gray = cv2.cvtColor(image, cv2.COLOR_BGR2GRAY)\n",
    "\n",
    "# Apply Gaussian blur to reduce noise and improve line detection\n",
    "blurred = cv2.GaussianBlur(gray, (5, 5), 0)\n",
    "\n",
    "# Use Canny edge detector to detect edges in the image\n",
    "edges = cv2.Canny(blurred, 50, 150)\n",
    "\n",
    "# Apply Hough Line Transform\n",
    "lines = cv2.HoughLines(edges, 1, np.pi/180, 300)  # Adjust the last parameter for better results\n",
    "\n",
    "if lines is not None:\n",
    "    for rho, theta in lines[:,0]:\n",
    "        a = np.cos(theta)\n",
    "        b = np.sin(theta)\n",
    "        x0 = a * rho\n",
    "        y0 = b * rho\n",
    "        x1 = int(x0 + 1000*(-b))\n",
    "        y1 = int(y0 + 1000*(a))\n",
    "        x2 = int(x0 - 1000*(-b))\n",
    "        y2 = int(y0 - 1000*(a))\n",
    "\n",
    "        # Calculate slope and endpoints\n",
    "        slope, (start_point, end_point) = calculate_slope_and_endpoints(x1, y1, x2, y2, theta)\n",
    "        print(f\"Slope: {slope}, Start Point: {start_point}, End Point: {end_point}\")\n",
    "\n",
    "        cv2.line(image, (x1, y1), (x2, y2), (0, 0, 255), 2)  # Red color in BGR\n",
    "\n",
    "# print image size\n",
    "print(image.shape)\n",
    "\n",
    "# save image\n",
    "cv2.imwrite('../data/input/snippets/snippet_0_lines.jpg', image)\n",
    "\n",
    "# Display the image with the detected lines\n",
    "cv2.imshow('Detected Lines', image)\n",
    "cv2.waitKey(0)\n",
    "cv2.destroyAllWindows()\n"
   ]
  },
  {
   "cell_type": "code",
   "execution_count": null,
   "metadata": {},
   "outputs": [
    {
     "ename": "NameError",
     "evalue": "name 'image' is not defined",
     "output_type": "error",
     "traceback": [
      "\u001b[0;31m---------------------------------------------------------------------------\u001b[0m",
      "\u001b[0;31mNameError\u001b[0m                                 Traceback (most recent call last)",
      "\u001b[1;32m/Users/gisbertgurke/Documents/Projekte/germanyinc-company/src/hough_line_transform.ipynb Cell 3\u001b[0m line \u001b[0;36m1\n\u001b[0;32m----> <a href='vscode-notebook-cell:/Users/gisbertgurke/Documents/Projekte/germanyinc-company/src/hough_line_transform.ipynb#W6sZmlsZQ%3D%3D?line=0'>1</a>\u001b[0m \u001b[39mprint\u001b[39m(image\u001b[39m.\u001b[39msize)\n",
      "\u001b[0;31mNameError\u001b[0m: name 'image' is not defined"
     ]
    }
   ],
   "source": []
  }
 ],
 "metadata": {
  "kernelspec": {
   "display_name": "germanyinc-ocr-venv",
   "language": "python",
   "name": "python3"
  },
  "language_info": {
   "codemirror_mode": {
    "name": "ipython",
    "version": 3
   },
   "file_extension": ".py",
   "mimetype": "text/x-python",
   "name": "python",
   "nbconvert_exporter": "python",
   "pygments_lexer": "ipython3",
   "version": "3.9.5"
  }
 },
 "nbformat": 4,
 "nbformat_minor": 2
}
