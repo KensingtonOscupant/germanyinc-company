{
 "cells": [
  {
   "cell_type": "code",
   "execution_count": 1,
   "metadata": {},
   "outputs": [
    {
     "name": "stdout",
     "output_type": "stream",
     "text": [
      "Slope of the best-fit line: -0.003842699491168514\n"
     ]
    }
   ],
   "source": [
    "# import cv2\n",
    "# import numpy as np\n",
    "\n",
    "# # Load the image\n",
    "# img = cv2.imread('../data/input/allweiler_1_page.png')\n",
    "# gray = cv2.cvtColor(img, cv2.COLOR_BGR2GRAY)\n",
    "\n",
    "# # Canny edge detection\n",
    "# edges = cv2.Canny(gray, 50, 150, apertureSize=3)\n",
    "\n",
    "# # Extract the coordinates of white pixels\n",
    "# y_coords, x_coords = np.where(edges == 255)\n",
    "\n",
    "# # Linear regression to determine best-fit line\n",
    "# fit = np.polyfit(x_coords, y_coords, 1)\n",
    "# slope = fit[0]\n",
    "\n",
    "# print(f\"Slope of the best-fit line: {slope}\")\n",
    "\n",
    "# # Optional: Drawing the best-fit line\n",
    "# y_fit = np.polyval(fit, x_coords)\n",
    "# for x, y in zip(x_coords, y_fit):\n",
    "#     img[int(y), x] = [0, 0, 255]  # Draw in red\n",
    "\n",
    "# cv2.imshow('Best-fit Line', img)\n",
    "# # save the image\n",
    "# cv2.imwrite('best_fit_line_3.png', img)\n",
    "# cv2.waitKey(0)\n",
    "# cv2.destroyAllWindows()"
   ]
  },
  {
   "cell_type": "code",
   "execution_count": 1,
   "metadata": {},
   "outputs": [
    {
     "name": "stdout",
     "output_type": "stream",
     "text": [
      "Average slope: 0.0053475935828877\n"
     ]
    }
   ],
   "source": [
    "import cv2\n",
    "import numpy as np\n",
    "\n",
    "# Load the image and convert to grayscale\n",
    "img = cv2.imread('horizontal_line.png')\n",
    "gray = cv2.cvtColor(img, cv2.COLOR_BGR2GRAY)\n",
    "\n",
    "# Threshold the image\n",
    "_, thresholded = cv2.threshold(gray, 127, 255, cv2.THRESH_BINARY_INV)  # Adjust the threshold value as needed\n",
    "\n",
    "# Initialize lists to store row indices and slope values\n",
    "row_indices = []\n",
    "slopes = []\n",
    "\n",
    "# Iterate through columns of the thresholded image\n",
    "for col in range(thresholded.shape[1] - 1):  # -1 to avoid overflow in the next step\n",
    "    # Find row indices of dark pixels in the current and next columns\n",
    "    dark_pixels_current_col = np.where(thresholded[:, col] == 255)[0]\n",
    "    dark_pixels_next_col = np.where(thresholded[:, col + 1] == 255)[0]\n",
    "    \n",
    "    # Check if dark pixels are found in both columns\n",
    "    if len(dark_pixels_current_col) > 0 and len(dark_pixels_next_col) > 0:\n",
    "        # Compute the average row index for the current and next columns\n",
    "        avg_row_current_col = np.mean(dark_pixels_current_col)\n",
    "        avg_row_next_col = np.mean(dark_pixels_next_col)\n",
    "        \n",
    "        # Calculate the slope based on the difference in average row indices\n",
    "        slope = avg_row_next_col - avg_row_current_col\n",
    "        slopes.append(slope)\n",
    "\n",
    "# Compute the average slope across all columns\n",
    "avg_slope = np.mean(slopes)\n",
    "\n",
    "print(f\"Average slope: {avg_slope}\")\n",
    "\n",
    "# The result gives an idea of the average slope based on pixel-by-pixel differences\n"
   ]
  },
  {
   "cell_type": "code",
   "execution_count": 16,
   "metadata": {},
   "outputs": [
    {
     "name": "stdout",
     "output_type": "stream",
     "text": [
      "Slope from starting point: 0.21428571428571427\n"
     ]
    }
   ],
   "source": [
    "# import numpy as np\n",
    "\n",
    "# line_snippet = np.array([[0, 0, 0, 1, 0, 0, 0],  # Example row 1\n",
    "#                         [0, 0, 1, 0, 0, 0, 0],  # Example row 2\n",
    "#                         [0, 1, 0, 0, 0, 0, 0],  # Example row 3\n",
    "#                         [1, 0, 0, 0, 0, 0, 0]])  # Example row 4\n",
    "\n",
    "# # Define the starting point (row) from which you want to measure the slope\n",
    "# starting_row = 0  # Example starting point\n",
    "\n",
    "# # Initialize variables\n",
    "# total_weighted_position = 0\n",
    "# total_weight = 0\n",
    "\n",
    "# # Iterate through rows beyond the starting point to find the weighted line position\n",
    "# for row_index, row in enumerate(line_snippet[starting_row:], start=starting_row):\n",
    "#     row_sum = np.sum(row * row_index)\n",
    "#     total_weighted_position += row_sum\n",
    "#     total_weight += np.sum(row)\n",
    "\n",
    "# # Calculate the weighted line position relative to the starting point\n",
    "# if total_weight > 0:\n",
    "#     line_position = total_weighted_position / total_weight\n",
    "# else:\n",
    "#     line_position = -1  # Handle the case where no dark pixels are present\n",
    "\n",
    "# # Calculate the slope relative to the starting point\n",
    "# snippet_width = line_snippet.shape[1]\n",
    "# slope = (line_position - starting_row) / snippet_width\n",
    "\n",
    "# print(\"Slope from starting point:\", slope)\n"
   ]
  }
 ],
 "metadata": {
  "kernelspec": {
   "display_name": "germanyinc-ocr-venv",
   "language": "python",
   "name": "python3"
  },
  "language_info": {
   "codemirror_mode": {
    "name": "ipython",
    "version": 3
   },
   "file_extension": ".py",
   "mimetype": "text/x-python",
   "name": "python",
   "nbconvert_exporter": "python",
   "pygments_lexer": "ipython3",
   "version": "3.9.5"
  }
 },
 "nbformat": 4,
 "nbformat_minor": 2
}
