{
 "cells": [
  {
   "cell_type": "code",
   "execution_count": 1,
   "metadata": {},
   "outputs": [],
   "source": [
    "from google.cloud import vision\n",
    "import os\n",
    "from dotenv import load_dotenv\n",
    "\n",
    "# Load Google Cloud credentials and region from .env file\n",
    "load_dotenv()\n",
    "\n",
    "os.environ['GOOGLE_APPLICATION_CREDENTIALS'] = '/path/to/.config/gcloud/application_default_credentials.json'"
   ]
  },
  {
   "cell_type": "code",
   "execution_count": 2,
   "metadata": {},
   "outputs": [],
   "source": [
    "def detect_paragraphs(path):\n",
    "    \"\"\"Detects paragraphs in the file.\"\"\"\n",
    "    client = vision.ImageAnnotatorClient()\n",
    "\n",
    "    with open(path, \"rb\") as image_file:\n",
    "        content = image_file.read()\n",
    "\n",
    "    image = vision.Image(content=content)\n",
    "\n",
    "    # Use DOCUMENT_TEXT_DETECTION to detect paragraphs\n",
    "    response = client.document_text_detection(image=image)\n",
    "    document = response.full_text_annotation\n",
    "\n",
    "    if response.error.message:\n",
    "        raise Exception(\n",
    "            \"{}\\nFor more info on error messages, check: \"\n",
    "            \"https://cloud.google.com/apis/design/errors\".format(response.error.message)\n",
    "        )\n",
    "    \n",
    "    return document\n"
   ]
  },
  {
   "cell_type": "code",
   "execution_count": null,
   "metadata": {},
   "outputs": [],
   "source": [
    "# Specify the path to your image\n",
    "path = '../data/input/sample.png'\n",
    "document = detect_paragraphs(path)\n",
    "print(document)"
   ]
  },
  {
   "cell_type": "code",
   "execution_count": null,
   "metadata": {},
   "outputs": [],
   "source": [
    "for page in document.pages:\n",
    "    for block in page.blocks:\n",
    "        for paragraph in block.paragraphs:\n",
    "            paragraph_text = ''\n",
    "            for word in paragraph.words:\n",
    "                word_text = ''.join([symbol.text for symbol in word.symbols])\n",
    "                paragraph_text += word_text + ' '\n",
    "            print(paragraph_text)\n",
    "            print(\"---\")"
   ]
  }
 ],
 "metadata": {
  "kernelspec": {
   "display_name": "germanyinc-ocr-venv",
   "language": "python",
   "name": "python3"
  },
  "language_info": {
   "codemirror_mode": {
    "name": "ipython",
    "version": 3
   },
   "file_extension": ".py",
   "mimetype": "text/x-python",
   "name": "python",
   "nbconvert_exporter": "python",
   "pygments_lexer": "ipython3",
   "version": "3.9.5"
  }
 },
 "nbformat": 4,
 "nbformat_minor": 2
}
